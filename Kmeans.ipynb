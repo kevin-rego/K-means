import math
import statistics
k=2
dataset = {"a":{"x":1, "y":2},"b":{"x":3, "y":7},"c":{"x":2, "y":0},"d":{"x":1, "y":3},"e":{"x":4, "y":6},"f":{"x":2, "y":-3},"g":{"x":3, "y":8},"h":{"x":7, "y":8}}
cluster1 = set()
cluster2 = set()
cluster3 = set()
cluster4 = set()
def distance(a,b):
  dist = math.sqrt(((dataset[b]['y']-a['y']) * (dataset[b]['y']-a['y'] )) + ((dataset[b]['x']-a['x']) * (dataset[b]['x']-a['x'])))
  return dist


rep1 = dataset['a']
rep2 = dataset['d']
while True:
  for i in dataset:
    dist1 = distance(rep1,i)
    dist2 = distance(rep2,i)  
    if dist1<=dist2:
      cluster3.add(i)
    else:
      cluster4.add(i)
  
  if cluster1 == cluster3:
    break
  else:
    cluster1 = cluster3
    cluster2 = cluster4
    sum1 = 0
    sum2 = 0
    for i in cluster3:
      sum1 = sum1 + dataset[i]["x"]
      sum2 = sum2 + dataset[i]["y"]
    sum3 = 0
    sum4 = 0
    for i in cluster4:
      sum3 = sum3 + dataset[i]["x"]
      sum4 = sum4 + dataset[i]["y"]

    rep1 = {"x":(sum1/len(cluster3)),"y":sum2/len(cluster3)} 
    rep2 =  {"x":(sum3/len(cluster4)),"y":sum4/len(cluster4)}
    cluster3 = set()
    cluster4=set()
    
    print("After K-means clustering when k=2")
print(f"Cluster 1 = {cluster3}")
print(f"Cluster 2 = {cluster4}")
