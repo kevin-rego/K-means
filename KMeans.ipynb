{
  "nbformat": 4,
  "nbformat_minor": 0,
  "metadata": {
    "colab": {
      "provenance": [],
      "collapsed_sections": [],
      "authorship_tag": "ABX9TyPJYNcqTuwbxWvxMQ9XQF5F",
      "include_colab_link": true
    },
    "kernelspec": {
      "name": "python3",
      "display_name": "Python 3"
    },
    "language_info": {
      "name": "python"
    }
  },
  "cells": [
    {
      "cell_type": "markdown",
      "metadata": {
        "id": "view-in-github",
        "colab_type": "text"
      },
      "source": [
        "<a href=\"https://colab.research.google.com/github/kevin-rego/K-means/blob/main/KMeans.ipynb\" target=\"_parent\"><img src=\"https://colab.research.google.com/assets/colab-badge.svg\" alt=\"Open In Colab\"/></a>"
      ]
    },
    {
      "cell_type": "code",
      "execution_count": 20,
      "metadata": {
        "id": "2fqP8aKSlh8h"
      },
      "outputs": [],
      "source": [
        "import math\n",
        "import statistics\n",
        "k=2\n",
        "dataset = {\"a\":{\"x\":1, \"y\":2},\"b\":{\"x\":3, \"y\":7},\"c\":{\"x\":2, \"y\":0},\"d\":{\"x\":1, \"y\":3},\"e\":{\"x\":4, \"y\":6},\"f\":{\"x\":2, \"y\":-3},\"g\":{\"x\":3, \"y\":8},\"h\":{\"x\":7, \"y\":8}}\n"
      ]
    },
    {
      "cell_type": "code",
      "source": [
        "cluster1 = set()\n",
        "cluster2 = set()\n",
        "cluster3 = set()\n",
        "cluster4 = set()\n",
        "def distance(a,b):\n",
        "  dist = math.sqrt(((dataset[b]['y']-a['y']) * (dataset[b]['y']-a['y'] )) + ((dataset[b]['x']-a['x']) * (dataset[b]['x']-a['x'])))\n",
        "  return dist\n",
        "\n",
        "\n",
        "rep1 = dataset['a']\n",
        "rep2 = dataset['d']\n",
        "while True:\n",
        "  for i in dataset:\n",
        "    dist1 = distance(rep1,i)\n",
        "    dist2 = distance(rep2,i)  \n",
        "    if dist1<=dist2:\n",
        "      cluster3.add(i)\n",
        "    else:\n",
        "      cluster4.add(i)\n",
        "  \n",
        "  if cluster1 == cluster3:\n",
        "    break\n",
        "  else:\n",
        "    cluster1 = cluster3\n",
        "    cluster2 = cluster4\n",
        "    sum1 = 0\n",
        "    sum2 = 0\n",
        "    for i in cluster3:\n",
        "      sum1 = sum1 + dataset[i][\"x\"]\n",
        "      sum2 = sum2 + dataset[i][\"y\"]\n",
        "    sum3 = 0\n",
        "    sum4 = 0\n",
        "    for i in cluster4:\n",
        "      sum3 = sum3 + dataset[i][\"x\"]\n",
        "      sum4 = sum4 + dataset[i][\"y\"]\n",
        "\n",
        "    rep1 = {\"x\":(sum1/len(cluster3)),\"y\":sum2/len(cluster3)} \n",
        "    rep2 =  {\"x\":(sum3/len(cluster4)),\"y\":sum4/len(cluster4)}\n",
        "    cluster3 = set()\n",
        "    cluster4=set()\n"
      ],
      "metadata": {
        "id": "1kL0Wareob1x"
      },
      "execution_count": 21,
      "outputs": []
    },
    {
      "cell_type": "code",
      "source": [
        "print(\"After K-means clustering when k=2\")\n",
        "print(f\"Cluster 1 = {cluster3}\")\n",
        "print(f\"Cluster 2 = {cluster4}\")\n"
      ],
      "metadata": {
        "colab": {
          "base_uri": "https://localhost:8080/"
        },
        "id": "mLCVsmNqozau",
        "outputId": "1811cc69-9bea-4b80-b31e-89e4a53c5097"
      },
      "execution_count": 22,
      "outputs": [
        {
          "output_type": "stream",
          "name": "stdout",
          "text": [
            "After K-means clustering when k=2\n",
            "Cluster 1 = {'f', 'c', 'a', 'd'}\n",
            "Cluster 2 = {'g', 'e', 'b', 'h'}\n"
          ]
        }
      ]
    }
  ]
}